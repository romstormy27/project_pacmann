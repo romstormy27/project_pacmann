{
 "cells": [
  {
   "cell_type": "code",
   "execution_count": 1,
   "id": "6a4b6253",
   "metadata": {},
   "outputs": [],
   "source": [
    "import pandas as pd\n",
    "import numpy as np\n",
    "import joblib\n",
    "from tqdm import tqdm"
   ]
  },
  {
   "cell_type": "code",
   "execution_count": 2,
   "id": "884e93d3",
   "metadata": {},
   "outputs": [],
   "source": [
    "tqdm.pandas()"
   ]
  },
  {
   "cell_type": "code",
   "execution_count": 3,
   "id": "dd8604be",
   "metadata": {},
   "outputs": [],
   "source": [
    "df = joblib.load(\"../Dump/df.pkl\")\n",
    "# df = pd.read_excel(\"../Data/ar-2010-2014-xlsb.xlsb\", engine=\"pyxlsb\")\n",
    "# df"
   ]
  },
  {
   "cell_type": "code",
   "execution_count": 4,
   "id": "db59e781",
   "metadata": {},
   "outputs": [
    {
     "name": "stderr",
     "output_type": "stream",
     "text": [
      "100%|██████████| 95/95 [00:00<00:00, 166.94it/s]\n"
     ]
    },
    {
     "data": {
      "text/html": [
       "<div>\n",
       "<style scoped>\n",
       "    .dataframe tbody tr th:only-of-type {\n",
       "        vertical-align: middle;\n",
       "    }\n",
       "\n",
       "    .dataframe tbody tr th {\n",
       "        vertical-align: top;\n",
       "    }\n",
       "\n",
       "    .dataframe thead th {\n",
       "        text-align: right;\n",
       "    }\n",
       "</style>\n",
       "<table border=\"1\" class=\"dataframe\">\n",
       "  <thead>\n",
       "    <tr style=\"text-align: right;\">\n",
       "      <th></th>\n",
       "      <th>Col</th>\n",
       "      <th>pct</th>\n",
       "      <th>status</th>\n",
       "    </tr>\n",
       "  </thead>\n",
       "  <tbody>\n",
       "    <tr>\n",
       "      <th>0</th>\n",
       "      <td>Patient Age at Treatment</td>\n",
       "      <td>0.000000</td>\n",
       "      <td>NA values handling</td>\n",
       "    </tr>\n",
       "    <tr>\n",
       "      <th>1</th>\n",
       "      <td>Date patient started trying to become pregnant...</td>\n",
       "      <td>0.963590</td>\n",
       "      <td>Throw away</td>\n",
       "    </tr>\n",
       "    <tr>\n",
       "      <th>2</th>\n",
       "      <td>Total Number of Previous cycles, Both IVF and DI</td>\n",
       "      <td>0.000000</td>\n",
       "      <td>NA values handling</td>\n",
       "    </tr>\n",
       "    <tr>\n",
       "      <th>3</th>\n",
       "      <td>Total Number of Previous treatments, Both IVF ...</td>\n",
       "      <td>0.000000</td>\n",
       "      <td>NA values handling</td>\n",
       "    </tr>\n",
       "    <tr>\n",
       "      <th>4</th>\n",
       "      <td>Total Number of Previous IVF cycles</td>\n",
       "      <td>0.000000</td>\n",
       "      <td>NA values handling</td>\n",
       "    </tr>\n",
       "    <tr>\n",
       "      <th>...</th>\n",
       "      <td>...</td>\n",
       "      <td>...</td>\n",
       "      <td>...</td>\n",
       "    </tr>\n",
       "    <tr>\n",
       "      <th>90</th>\n",
       "      <td>Heart Four Birth Outcome</td>\n",
       "      <td>0.999979</td>\n",
       "      <td>Throw away</td>\n",
       "    </tr>\n",
       "    <tr>\n",
       "      <th>91</th>\n",
       "      <td>Heart Four Birth Weight</td>\n",
       "      <td>0.999994</td>\n",
       "      <td>Throw away</td>\n",
       "    </tr>\n",
       "    <tr>\n",
       "      <th>92</th>\n",
       "      <td>Heart Four Sex</td>\n",
       "      <td>0.999994</td>\n",
       "      <td>Throw away</td>\n",
       "    </tr>\n",
       "    <tr>\n",
       "      <th>93</th>\n",
       "      <td>Heart Four Delivery Date</td>\n",
       "      <td>0.999994</td>\n",
       "      <td>Throw away</td>\n",
       "    </tr>\n",
       "    <tr>\n",
       "      <th>94</th>\n",
       "      <td>Heart Four Birth Congenital Abnormalities</td>\n",
       "      <td>1.000000</td>\n",
       "      <td>Throw away</td>\n",
       "    </tr>\n",
       "  </tbody>\n",
       "</table>\n",
       "<p>95 rows × 3 columns</p>\n",
       "</div>"
      ],
      "text/plain": [
       "                                                  Col       pct  \\\n",
       "0                            Patient Age at Treatment  0.000000   \n",
       "1   Date patient started trying to become pregnant...  0.963590   \n",
       "2    Total Number of Previous cycles, Both IVF and DI  0.000000   \n",
       "3   Total Number of Previous treatments, Both IVF ...  0.000000   \n",
       "4                 Total Number of Previous IVF cycles  0.000000   \n",
       "..                                                ...       ...   \n",
       "90                           Heart Four Birth Outcome  0.999979   \n",
       "91                            Heart Four Birth Weight  0.999994   \n",
       "92                                     Heart Four Sex  0.999994   \n",
       "93                           Heart Four Delivery Date  0.999994   \n",
       "94          Heart Four Birth Congenital Abnormalities  1.000000   \n",
       "\n",
       "                status  \n",
       "0   NA values handling  \n",
       "1           Throw away  \n",
       "2   NA values handling  \n",
       "3   NA values handling  \n",
       "4   NA values handling  \n",
       "..                 ...  \n",
       "90          Throw away  \n",
       "91          Throw away  \n",
       "92          Throw away  \n",
       "93          Throw away  \n",
       "94          Throw away  \n",
       "\n",
       "[95 rows x 3 columns]"
      ]
     },
     "execution_count": 4,
     "metadata": {},
     "output_type": "execute_result"
    }
   ],
   "source": [
    "pcts = []\n",
    "statuses = []\n",
    "\n",
    "for cols in tqdm(df.columns):\n",
    "    pct = df[cols].isnull().sum() / df.shape[0]\n",
    "    pcts.append(pct)\n",
    "    \n",
    "    if pct < 0.1:\n",
    "        status = \"NA values handling\"\n",
    "    else:\n",
    "        status = \"Throw away\"\n",
    "        \n",
    "    statuses.append(status)\n",
    "    \n",
    "#     print(f'Columns: {cols}\\n null-percentages:{pct*100:.2f}%')\n",
    "\n",
    "nulls = pd.DataFrame({\"Col\": df.columns, \"pct\": pcts, \"status\": statuses})\n",
    "nulls"
   ]
  },
  {
   "cell_type": "code",
   "execution_count": 6,
   "id": "7f2f1ba0",
   "metadata": {},
   "outputs": [
    {
     "name": "stderr",
     "output_type": "stream",
     "text": [
      "C:\\Users\\M.FAHRURY\\AppData\\Local\\Temp\\ipykernel_20468\\3611178038.py:2: SettingWithCopyWarning: \n",
      "A value is trying to be set on a copy of a slice from a DataFrame.\n",
      "Try using .loc[row_indexer,col_indexer] = value instead\n",
      "\n",
      "See the caveats in the documentation: https://pandas.pydata.org/pandas-docs/stable/user_guide/indexing.html#returning-a-view-versus-a-copy\n",
      "  df_must_handle['Live Birth Occurrence'] = df['Live Birth Occurrence']\n"
     ]
    },
    {
     "data": {
      "text/html": [
       "<div>\n",
       "<style scoped>\n",
       "    .dataframe tbody tr th:only-of-type {\n",
       "        vertical-align: middle;\n",
       "    }\n",
       "\n",
       "    .dataframe tbody tr th {\n",
       "        vertical-align: top;\n",
       "    }\n",
       "\n",
       "    .dataframe thead th {\n",
       "        text-align: right;\n",
       "    }\n",
       "</style>\n",
       "<table border=\"1\" class=\"dataframe\">\n",
       "  <thead>\n",
       "    <tr style=\"text-align: right;\">\n",
       "      <th></th>\n",
       "      <th>Patient Age at Treatment</th>\n",
       "      <th>Total Number of Previous cycles, Both IVF and DI</th>\n",
       "      <th>Total Number of Previous treatments, Both IVF and DI at clinic</th>\n",
       "      <th>Total Number of Previous IVF cycles</th>\n",
       "      <th>Total Number of Previous DI cycles</th>\n",
       "      <th>Total number of previous pregnancies, Both IVF and DI</th>\n",
       "      <th>Total number of IVF pregnancies</th>\n",
       "      <th>Total number of DI pregnancies</th>\n",
       "      <th>Total number of live births - conceived through IVF or DI</th>\n",
       "      <th>Total number of live births - conceived through IVF</th>\n",
       "      <th>...</th>\n",
       "      <th>Embryos from Eggs Micro-injected</th>\n",
       "      <th>Total Embryos Thawed</th>\n",
       "      <th>Embryos Transfered</th>\n",
       "      <th>Embryos Transfered from Eggs Micro-injected</th>\n",
       "      <th>Embryos Stored For Use By Patient</th>\n",
       "      <th>Embryos (from Eggs Micro-injected) Stored For Use By Patient</th>\n",
       "      <th>Year of Treatment</th>\n",
       "      <th>Number of Live Births</th>\n",
       "      <th>Number of foetal sacs with fetal pulsation</th>\n",
       "      <th>Live Birth Occurrence</th>\n",
       "    </tr>\n",
       "  </thead>\n",
       "  <tbody>\n",
       "    <tr>\n",
       "      <th>0</th>\n",
       "      <td>18 - 34</td>\n",
       "      <td>1</td>\n",
       "      <td>1</td>\n",
       "      <td>0</td>\n",
       "      <td>1</td>\n",
       "      <td>0</td>\n",
       "      <td>0</td>\n",
       "      <td>0</td>\n",
       "      <td>0</td>\n",
       "      <td>0</td>\n",
       "      <td>...</td>\n",
       "      <td>NaN</td>\n",
       "      <td>NaN</td>\n",
       "      <td>NaN</td>\n",
       "      <td>NaN</td>\n",
       "      <td>NaN</td>\n",
       "      <td>NaN</td>\n",
       "      <td>2010</td>\n",
       "      <td>2</td>\n",
       "      <td>2</td>\n",
       "      <td>1.0</td>\n",
       "    </tr>\n",
       "    <tr>\n",
       "      <th>1</th>\n",
       "      <td>35-37</td>\n",
       "      <td>0</td>\n",
       "      <td>0</td>\n",
       "      <td>0</td>\n",
       "      <td>0</td>\n",
       "      <td>0</td>\n",
       "      <td>0</td>\n",
       "      <td>0</td>\n",
       "      <td>0</td>\n",
       "      <td>0</td>\n",
       "      <td>...</td>\n",
       "      <td>NaN</td>\n",
       "      <td>NaN</td>\n",
       "      <td>NaN</td>\n",
       "      <td>NaN</td>\n",
       "      <td>NaN</td>\n",
       "      <td>NaN</td>\n",
       "      <td>2013</td>\n",
       "      <td>0</td>\n",
       "      <td>0</td>\n",
       "      <td>NaN</td>\n",
       "    </tr>\n",
       "    <tr>\n",
       "      <th>2</th>\n",
       "      <td>18 - 34</td>\n",
       "      <td>0</td>\n",
       "      <td>0</td>\n",
       "      <td>0</td>\n",
       "      <td>0</td>\n",
       "      <td>0</td>\n",
       "      <td>0</td>\n",
       "      <td>0</td>\n",
       "      <td>0</td>\n",
       "      <td>0</td>\n",
       "      <td>...</td>\n",
       "      <td>NaN</td>\n",
       "      <td>NaN</td>\n",
       "      <td>NaN</td>\n",
       "      <td>NaN</td>\n",
       "      <td>NaN</td>\n",
       "      <td>NaN</td>\n",
       "      <td>2012</td>\n",
       "      <td>2</td>\n",
       "      <td>2</td>\n",
       "      <td>1.0</td>\n",
       "    </tr>\n",
       "    <tr>\n",
       "      <th>3</th>\n",
       "      <td>38-39</td>\n",
       "      <td>1</td>\n",
       "      <td>1</td>\n",
       "      <td>0</td>\n",
       "      <td>1</td>\n",
       "      <td>0</td>\n",
       "      <td>0</td>\n",
       "      <td>0</td>\n",
       "      <td>0</td>\n",
       "      <td>0</td>\n",
       "      <td>...</td>\n",
       "      <td>NaN</td>\n",
       "      <td>NaN</td>\n",
       "      <td>NaN</td>\n",
       "      <td>NaN</td>\n",
       "      <td>NaN</td>\n",
       "      <td>NaN</td>\n",
       "      <td>2014</td>\n",
       "      <td>0</td>\n",
       "      <td>0</td>\n",
       "      <td>NaN</td>\n",
       "    </tr>\n",
       "    <tr>\n",
       "      <th>4</th>\n",
       "      <td>35-37</td>\n",
       "      <td>0</td>\n",
       "      <td>0</td>\n",
       "      <td>0</td>\n",
       "      <td>0</td>\n",
       "      <td>0</td>\n",
       "      <td>0</td>\n",
       "      <td>0</td>\n",
       "      <td>0</td>\n",
       "      <td>0</td>\n",
       "      <td>...</td>\n",
       "      <td>NaN</td>\n",
       "      <td>NaN</td>\n",
       "      <td>NaN</td>\n",
       "      <td>NaN</td>\n",
       "      <td>NaN</td>\n",
       "      <td>NaN</td>\n",
       "      <td>2010</td>\n",
       "      <td>0</td>\n",
       "      <td>0</td>\n",
       "      <td>NaN</td>\n",
       "    </tr>\n",
       "  </tbody>\n",
       "</table>\n",
       "<p>5 rows × 58 columns</p>\n",
       "</div>"
      ],
      "text/plain": [
       "  Patient Age at Treatment Total Number of Previous cycles, Both IVF and DI  \\\n",
       "0                  18 - 34                                                1   \n",
       "1                    35-37                                                0   \n",
       "2                  18 - 34                                                0   \n",
       "3                    38-39                                                1   \n",
       "4                    35-37                                                0   \n",
       "\n",
       "  Total Number of Previous treatments, Both IVF and DI at clinic  \\\n",
       "0                                                  1               \n",
       "1                                                  0               \n",
       "2                                                  0               \n",
       "3                                                  1               \n",
       "4                                                  0               \n",
       "\n",
       "  Total Number of Previous IVF cycles Total Number of Previous DI cycles  \\\n",
       "0                                   0                                  1   \n",
       "1                                   0                                  0   \n",
       "2                                   0                                  0   \n",
       "3                                   0                                  1   \n",
       "4                                   0                                  0   \n",
       "\n",
       "  Total number of previous pregnancies, Both IVF and DI  \\\n",
       "0                                                  0      \n",
       "1                                                  0      \n",
       "2                                                  0      \n",
       "3                                                  0      \n",
       "4                                                  0      \n",
       "\n",
       "   Total number of IVF pregnancies  Total number of DI pregnancies  \\\n",
       "0                                0                               0   \n",
       "1                                0                               0   \n",
       "2                                0                               0   \n",
       "3                                0                               0   \n",
       "4                                0                               0   \n",
       "\n",
       "  Total number of live births - conceived through IVF or DI  \\\n",
       "0                                                  0          \n",
       "1                                                  0          \n",
       "2                                                  0          \n",
       "3                                                  0          \n",
       "4                                                  0          \n",
       "\n",
       "   Total number of live births - conceived through IVF  ...  \\\n",
       "0                                                  0    ...   \n",
       "1                                                  0    ...   \n",
       "2                                                  0    ...   \n",
       "3                                                  0    ...   \n",
       "4                                                  0    ...   \n",
       "\n",
       "   Embryos from Eggs Micro-injected  Total Embryos Thawed  Embryos Transfered  \\\n",
       "0                               NaN                   NaN                 NaN   \n",
       "1                               NaN                   NaN                 NaN   \n",
       "2                               NaN                   NaN                 NaN   \n",
       "3                               NaN                   NaN                 NaN   \n",
       "4                               NaN                   NaN                 NaN   \n",
       "\n",
       "   Embryos Transfered from Eggs Micro-injected  \\\n",
       "0                                          NaN   \n",
       "1                                          NaN   \n",
       "2                                          NaN   \n",
       "3                                          NaN   \n",
       "4                                          NaN   \n",
       "\n",
       "   Embryos Stored For Use By Patient  \\\n",
       "0                                NaN   \n",
       "1                                NaN   \n",
       "2                                NaN   \n",
       "3                                NaN   \n",
       "4                                NaN   \n",
       "\n",
       "   Embryos (from Eggs Micro-injected) Stored For Use By Patient  \\\n",
       "0                                                NaN              \n",
       "1                                                NaN              \n",
       "2                                                NaN              \n",
       "3                                                NaN              \n",
       "4                                                NaN              \n",
       "\n",
       "   Year of Treatment  Number of Live Births  \\\n",
       "0               2010                      2   \n",
       "1               2013                      0   \n",
       "2               2012                      2   \n",
       "3               2014                      0   \n",
       "4               2010                      0   \n",
       "\n",
       "   Number of foetal sacs with fetal pulsation  Live Birth Occurrence  \n",
       "0                                           2                    1.0  \n",
       "1                                           0                    NaN  \n",
       "2                                           2                    1.0  \n",
       "3                                           0                    NaN  \n",
       "4                                           0                    NaN  \n",
       "\n",
       "[5 rows x 58 columns]"
      ]
     },
     "execution_count": 6,
     "metadata": {},
     "output_type": "execute_result"
    }
   ],
   "source": [
    "df_must_handle = df[nulls[nulls[\"status\"] == \"NA values handling\"][\"Col\"].values]\n",
    "df_must_handle['Live Birth Occurrence'] = df['Live Birth Occurrence']\n",
    "df_must_handle.head()"
   ]
  },
  {
   "cell_type": "code",
   "execution_count": 8,
   "id": "9c85d763",
   "metadata": {},
   "outputs": [
    {
     "name": "stdout",
     "output_type": "stream",
     "text": [
      "Null value percentages: 75.93%\n",
      "Unique values inside are: [ 1. nan]\n"
     ]
    }
   ],
   "source": [
    "# inpect NaN value in target variable ('Live Birth Occurrence')\n",
    "print(f'Null value percentages: {(df_must_handle[\"Live Birth Occurrence\"].isnull().sum()/df.shape[0])*100:.2f}%')\n",
    "print(f'Unique values inside are: {df_must_handle[\"Live Birth Occurrence\"].unique()}')\n"
   ]
  },
  {
   "cell_type": "markdown",
   "id": "0dda4eba",
   "metadata": {},
   "source": [
    "maybe all zero or negative class recorded as NaN\n",
    "\n",
    "let's convert NaN to zero class"
   ]
  },
  {
   "cell_type": "code",
   "execution_count": 9,
   "id": "bc1d3dd6",
   "metadata": {},
   "outputs": [
    {
     "name": "stderr",
     "output_type": "stream",
     "text": [
      "C:\\Users\\M.FAHRURY\\AppData\\Local\\Temp\\ipykernel_20468\\3393358916.py:1: SettingWithCopyWarning: \n",
      "A value is trying to be set on a copy of a slice from a DataFrame.\n",
      "Try using .loc[row_indexer,col_indexer] = value instead\n",
      "\n",
      "See the caveats in the documentation: https://pandas.pydata.org/pandas-docs/stable/user_guide/indexing.html#returning-a-view-versus-a-copy\n",
      "  df_must_handle[df_must_handle['Live Birth Occurrence'].isnull() == True] = 0\n"
     ]
    }
   ],
   "source": [
    "df_must_handle[df_must_handle['Live Birth Occurrence'].isnull() == True] = 0\n"
   ]
  },
  {
   "cell_type": "code",
   "execution_count": 10,
   "id": "7c3ea606",
   "metadata": {},
   "outputs": [
    {
     "data": {
      "text/plain": [
       "array([1., 0.])"
      ]
     },
     "execution_count": 10,
     "metadata": {},
     "output_type": "execute_result"
    }
   ],
   "source": [
    "df_must_handle['Live Birth Occurrence'].unique()"
   ]
  },
  {
   "cell_type": "code",
   "execution_count": 11,
   "id": "09045575",
   "metadata": {},
   "outputs": [
    {
     "data": {
      "text/plain": [
       "['../Dump/df_must_handle.pkl']"
      ]
     },
     "execution_count": 11,
     "metadata": {},
     "output_type": "execute_result"
    }
   ],
   "source": [
    "joblib.dump(df_must_handle, \"../Dump/df_must_handle.pkl\")"
   ]
  },
  {
   "cell_type": "markdown",
   "id": "b3f96101",
   "metadata": {},
   "source": [
    "now all the NaN have been converted to 0"
   ]
  },
  {
   "cell_type": "markdown",
   "id": "c1a906fc",
   "metadata": {},
   "source": [
    "### Data Splitting"
   ]
  },
  {
   "cell_type": "code",
   "execution_count": 42,
   "id": "f85abf83",
   "metadata": {},
   "outputs": [
    {
     "name": "stdout",
     "output_type": "stream",
     "text": [
      "X.shape: (337109, 57)\n",
      "y.shape: (337109,)\n"
     ]
    }
   ],
   "source": [
    "X = df_must_handle.drop(['Live Birth Occurrence'], axis=1)\n",
    "y = df_must_handle['Live Birth Occurrence']\n",
    "\n",
    "print(f'X.shape: {X.shape}')\n",
    "print(f'y.shape: {y.shape}')"
   ]
  },
  {
   "cell_type": "code",
   "execution_count": 44,
   "id": "55b3e7eb",
   "metadata": {},
   "outputs": [
    {
     "name": "stdout",
     "output_type": "stream",
     "text": [
      "X_train, y_train: (202265, 57),(202265,)\n",
      "X_valid, y_valid: (67422, 57),(67422,)\n",
      "X_test, y_test: (67422, 57),(67422,)\n"
     ]
    }
   ],
   "source": [
    "from sklearn.model_selection import train_test_split\n",
    "# train test\n",
    "X_train, X_test, y_train, y_test = train_test_split(X, y, test_size=0.4, stratify=y, random_state=42)\n",
    "# test val\n",
    "X_valid, X_test, y_valid, y_test = train_test_split(X_test, y_test, test_size=0.5, stratify=y_test, random_state=42)\n",
    "\n",
    "# print shape\n",
    "print(f'X_train, y_train: {X_train.shape},{y_train.shape}')\n",
    "print(f'X_valid, y_valid: {X_valid.shape},{y_valid.shape}')\n",
    "print(f'X_test, y_test: {X_test.shape},{y_test.shape}')"
   ]
  },
  {
   "cell_type": "code",
   "execution_count": 70,
   "id": "797e48a8",
   "metadata": {},
   "outputs": [
    {
     "name": "stdout",
     "output_type": "stream",
     "text": [
      "Before splitting: {'0': '75.93%', '1': '24.07%'}\n",
      "After splitting: {'0_train': '75.93%', '1_train': '24.07%', '0_valid': '75.93%', '1_valid': '24.07%', '0_test': '75.94%', '1_test': '24.06%'}\n"
     ]
    }
   ],
   "source": [
    "# check class balance\n",
    "before_splitting = {\n",
    "    \"0\": f'{(df_must_handle[\"Live Birth Occurrence\"].value_counts()[0]/df_must_handle.shape[0])*100:.2f}%',\n",
    "    \"1\": f'{(df_must_handle[\"Live Birth Occurrence\"].value_counts()[1]/df_must_handle.shape[0])*100:.2f}%'\n",
    "}\n",
    "\n",
    "after_splitting = {\n",
    "    \"0_train\": f'{(y_train.value_counts()[0]/y_train.shape[0])*100:.2f}%',\n",
    "    \"1_train\": f'{(y_train.value_counts()[1]/y_train.shape[0])*100:.2f}%',\n",
    "\n",
    "    \"0_valid\": f'{(y_valid.value_counts()[0]/y_valid.shape[0])*100:.2f}%',\n",
    "    \"1_valid\": f'{(y_valid.value_counts()[1]/y_valid.shape[0])*100:.2f}%',\n",
    "    \n",
    "    \"0_test\": f'{(y_test.value_counts()[0]/y_test.shape[0])*100:.2f}%',\n",
    "    \"1_test\": f'{(y_test.value_counts()[1]/y_test.shape[0])*100:.2f}%',\n",
    "}\n",
    "\n",
    "print(f'Before splitting: {before_splitting}')\n",
    "print(f'After splitting: {after_splitting}')"
   ]
  },
  {
   "cell_type": "markdown",
   "id": "4b29af61",
   "metadata": {},
   "source": [
    "Data splitting do the split in stratify manner as well as we hope"
   ]
  },
  {
   "cell_type": "code",
   "execution_count": 72,
   "id": "c8dba964",
   "metadata": {},
   "outputs": [
    {
     "data": {
      "text/plain": [
       "['../Dump/y_test.pkl']"
      ]
     },
     "execution_count": 72,
     "metadata": {},
     "output_type": "execute_result"
    }
   ],
   "source": [
    "# dump the train, valid, test\n",
    "joblib.dump(X_train, \"../Dump/x_train.pkl\")\n",
    "joblib.dump(y_train, \"../Dump/y_train.pkl\")\n",
    "joblib.dump(X_valid, \"../Dump/x_valid.pkl\")\n",
    "joblib.dump(y_valid, \"../Dump/y_valid.pkl\")\n",
    "joblib.dump(X_test, \"../Dump/x_test.pkl\")\n",
    "joblib.dump(y_test, \"../Dump/y_test.pkl\")"
   ]
  },
  {
   "cell_type": "code",
   "execution_count": 12,
   "id": "5b5eb943",
   "metadata": {},
   "outputs": [],
   "source": [
    "# load the splitted data\n",
    "x_train = joblib.load(\"../Dump/x_train.pkl\")\n",
    "y_train = joblib.load(\"../Dump/y_train.pkl\")\n",
    "x_valid = joblib.load(\"../Dump/x_valid.pkl\")\n",
    "y_valid = joblib.load(\"../Dump/y_valid.pkl\")\n",
    "x_test = joblib.load(\"../Dump/x_test.pkl\")\n",
    "y_test = joblib.load(\"../Dump/y_test.pkl\")"
   ]
  },
  {
   "cell_type": "markdown",
   "id": "16ee35ee",
   "metadata": {},
   "source": [
    "### Pre-processing"
   ]
  },
  {
   "cell_type": "code",
   "execution_count": null,
   "id": "2422f715",
   "metadata": {},
   "outputs": [],
   "source": []
  }
 ],
 "metadata": {
  "interpreter": {
   "hash": "8ecb46515117d8a27c918217945e104b7dc28719675e721ace071b41fe1d0201"
  },
  "kernelspec": {
   "display_name": "Python 3.8.2 ('projenv': venv)",
   "language": "python",
   "name": "python3"
  },
  "language_info": {
   "codemirror_mode": {
    "name": "ipython",
    "version": 3
   },
   "file_extension": ".py",
   "mimetype": "text/x-python",
   "name": "python",
   "nbconvert_exporter": "python",
   "pygments_lexer": "ipython3",
   "version": "3.8.2"
  }
 },
 "nbformat": 4,
 "nbformat_minor": 5
}
